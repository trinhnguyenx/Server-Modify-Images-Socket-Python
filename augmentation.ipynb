{
 "cells": [
  {
   "cell_type": "code",
   "execution_count": 1,
   "metadata": {},
   "outputs": [],
   "source": [
    "import cv2\n",
    "import os\n",
    "from tqdm import tqdm\n",
    "import albumentations as A\n",
    "from albumentations import BboxParams\n",
    "from albumentations.core.composition import BboxParams"
   ]
  },
  {
   "cell_type": "code",
   "execution_count": 2,
   "metadata": {},
   "outputs": [],
   "source": [
    "def load_image_and_label(image_path, label_path):\n",
    "  image = cv2.imread(image_path)\n",
    "  labels = []\n",
    "  with open(label_path, \"r\") as f:\n",
    "    for line in f.readlines():\n",
    "      data = line.strip().split(\" \")\n",
    "      class_id = int(data[0])\n",
    "      x_center, y_center, bbox_width, bbox_height = float(data[1]), float(data[2]), float(data[3]), float(data[4])\n",
    "      labels.append((class_id, x_center, y_center, bbox_width, bbox_height))\n",
    "  return image, labels"
   ]
  },
  {
   "cell_type": "code",
   "execution_count": 3,
   "metadata": {},
   "outputs": [],
   "source": [
    "def augment_data(image_dir, label_dir, output_image_dir, output_label_dir, num_augmentations):\n",
    "    bbox_params = BboxParams(format='yolo', label_fields=['category_ids'])\n",
    "\n",
    "    transformations = {\n",
    "        #\"hflip\": A.HorizontalFlip(p=1),  # Example - Commented out as p=1 applies always\n",
    "        #\"vflip\": A.VerticalFlip(p=1),  # Example - Commented out as p=1 applies always\n",
    "        \"shift_scale_rotate\": A.ShiftScaleRotate(shift_limit=0.1, scale_limit=0.2, rotate_limit=45, p=1.0),\n",
    "        #\"brightness_contrast\": A.RandomBrightnessContrast(p=1),  # Example - Commented out as p=1 applies always\n",
    "        # \"rotate\": A.Rotate(45),  # Example\n",
    "        #\"random_crop\": A.RandomCrop(width=256, height=256, p=1.0) # Example - Commented out as p=1 applies always\n",
    "        #\"Blur\": A.Blur(blur_limit=100, p=1.0),\n",
    "        #\"zoom_in_out\": A.RandomScale(scale_limit=0.2, p=1.0) \n",
    "    }\n",
    "\n",
    "    augmenter = A.Compose([transformations[name] for name in transformations], bbox_params=bbox_params)\n",
    "\n",
    "\n",
    "    for filename in tqdm(os.listdir(image_dir)):\n",
    "        if filename.endswith(\".jpg\") or filename.endswith(\".png\"):\n",
    "            image_path = os.path.join(image_dir, filename)\n",
    "            label_path = os.path.join(label_dir, os.path.splitext(filename)[0] + \".txt\")\n",
    "            image, labels = load_image_and_label(image_path, label_path)\n",
    "\n",
    "            for i in range(num_augmentations):\n",
    "                bbox_coords = [label[1:] for label in labels]\n",
    "                category_ids = [label[0] for label in labels]\n",
    "                # Adjust labels to include category_ids at the end of each bounding box definition\n",
    "                augmented = augmenter(image=image, bboxes=bbox_coords, category_ids=category_ids)\n",
    "\n",
    "                augmented_image = augmented['image']\n",
    "                augmented_bbox_coords = augmented['bboxes']\n",
    "                augmented_labels = [[category_ids[idx], *box] for idx, box in enumerate(augmented_bbox_coords)]\n",
    "                # Get the applied transformation names\n",
    "                applied_transformations = [name for name, func in transformations.items() if func in augmenter.transforms]\n",
    "\n",
    "                # Create output filename with transformation names and augmentation count\n",
    "                transformation_suffix = \"_\".join(applied_transformations)\n",
    "                output_image_filename = f\"{os.path.splitext(filename)[0]}_{transformation_suffix}_augmented_{i}.jpg\"\n",
    "                output_label_filename = f\"{os.path.splitext(filename)[0]}_{transformation_suffix}_augmented_{i}.txt\"\n",
    "\n",
    "                # Save augmented image and labels\n",
    "                cv2.imwrite(os.path.join(output_image_dir, output_image_filename), augmented_image)\n",
    "                with open(os.path.join(output_label_dir, output_label_filename), \"w\") as f:\n",
    "                    for label in augmented_labels:\n",
    "                        f.write(f\"{label[0]} {label[1]} {label[2]} {label[3]} {label[4]}\\n\")\n"
   ]
  },
  {
   "cell_type": "code",
   "execution_count": null,
   "metadata": {},
   "outputs": [],
   "source": [
    "if __name__ == \"__main__\":\n",
    "  image_dir = \"images\"  \n",
    "  label_dir = \"labels\" \n",
    "  output_image_dir = \"augmented_images\" \n",
    "  output_label_dir = \"augmented_labels\"  \n",
    "  num_augmentations = 1\n",
    "\n",
    "  # Create output directories if they don't exist\n",
    "  os.makedirs(output_image_dir, exist_ok=True)\n",
    "  os.makedirs(output_label_dir, exist_ok=True)\n",
    "\n",
    "  augment_data(image_dir, label_dir, output_image_dir, output_label_dir, num_augmentations)\n",
    "\n",
    "  print(f\"Successfully created {num_augmentations * len(os.listdir(image_dir))} augmented images.\")"
   ]
  }
 ],
 "metadata": {
  "kernelspec": {
   "display_name": "Python 3",
   "language": "python",
   "name": "python3"
  },
  "language_info": {
   "codemirror_mode": {
    "name": "ipython",
    "version": 3
   },
   "file_extension": ".py",
   "mimetype": "text/x-python",
   "name": "python",
   "nbconvert_exporter": "python",
   "pygments_lexer": "ipython3",
   "version": "3.11.5"
  }
 },
 "nbformat": 4,
 "nbformat_minor": 2
}
